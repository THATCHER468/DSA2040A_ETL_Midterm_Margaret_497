{
 "cells": [
  {
   "cell_type": "code",
   "execution_count": 2,
   "id": "ffbba7d0",
   "metadata": {},
   "outputs": [],
   "source": [
    "import pandas as pd\n",
    "\n",
    "#load the datasets\n",
    "raw = pd.read_csv('data/raw_data.csv')\n",
    "\n",
    "incremental = pd.read_csv('data/incremental_data.csv')"
   ]
  },
  {
   "cell_type": "code",
   "execution_count": 3,
   "id": "a2e22cc0",
   "metadata": {},
   "outputs": [
    {
     "name": "stdout",
     "output_type": "stream",
     "text": [
      "Duplicates in raw data: 1\n",
      "Duplicates after cleaning: 0\n"
     ]
    }
   ],
   "source": [
    "# Transforming raw_data.csv\n",
    "\n",
    "# Cleaning\n",
    "# Before: check for duplicates\n",
    "print(\"Duplicates in raw data:\", raw.duplicated().sum())\n",
    "\n",
    "# Drop duplicates\n",
    "raw = raw.drop_duplicates()\n",
    "\n",
    "# After: verify they're gone\n",
    "print(\"Duplicates after cleaning:\", raw.duplicated().sum())\n",
    "\n"
   ]
  },
  {
   "cell_type": "markdown",
   "id": "83fb25b9",
   "metadata": {},
   "source": [
    "Removed duplicate rows to ensure consistency and prevent overcounting during analysis"
   ]
  },
  {
   "cell_type": "code",
   "execution_count": 4,
   "id": "f4ea126e",
   "metadata": {},
   "outputs": [
    {
     "name": "stdout",
     "output_type": "stream",
     "text": [
      "missing values before: order_id          0\n",
      "customer_name     1\n",
      "product           0\n",
      "quantity         26\n",
      "unit_price       35\n",
      "order_date        1\n",
      "region           25\n",
      "dtype: int64\n"
     ]
    },
    {
     "data": {
      "text/plain": [
       "order_id         0\n",
       "customer_name    0\n",
       "product          0\n",
       "quantity         0\n",
       "unit_price       0\n",
       "order_date       0\n",
       "region           0\n",
       "dtype: int64"
      ]
     },
     "execution_count": 4,
     "metadata": {},
     "output_type": "execute_result"
    }
   ],
   "source": [
    "# Handling missing values in raw_data\n",
    "\n",
    "# Before\n",
    "print(\"missing values before:\",raw.isnull().sum())\n",
    "\n",
    "# Categorical\n",
    "raw['customer_name'] = raw['customer_name'].fillna('Unknown')\n",
    "raw['region'] = raw['region'].fillna(raw['region'].mode()[0])\n",
    "\n",
    "# Numeric (use median to reduce outlier distortion)\n",
    "raw['quantity'] = raw['quantity'].fillna(raw['quantity'].median())\n",
    "raw['unit_price'] = raw['unit_price'].fillna(raw['unit_price'].median())\n",
    "\n",
    "# Dates: convert to datetime first\n",
    "raw['order_date'] = pd.to_datetime(raw['order_date'], errors='coerce')\n",
    "raw['order_date'] = raw['order_date'].ffill() #fillna(method='bfill')  \n",
    "\n",
    "#after\n",
    "raw.isnull().sum()"
   ]
  },
  {
   "cell_type": "markdown",
   "id": "b71f6d21",
   "metadata": {},
   "source": [
    "Handled missing values across both categorical and numeric fields using context-appropriate strategies. Categorical entries were filled with the mode or a placeholder label. Numeric columns used the median to minimize distortion from skew or outliers."
   ]
  },
  {
   "cell_type": "code",
   "execution_count": 5,
   "id": "76074cbb",
   "metadata": {},
   "outputs": [
    {
     "name": "stdout",
     "output_type": "stream",
     "text": [
      "before data type: order_date    datetime64[ns]\n",
      "dtype: object\n",
      "After conversion: datetime64[ns]\n"
     ]
    }
   ],
   "source": [
    "# Structural transformation\n",
    "\n",
    "# Before\n",
    "print(\"before data type:\", raw[['order_date']].dtypes)\n",
    "\n",
    "# Convert 'order_date' to datetime\n",
    "raw['order_date'] = pd.to_datetime(raw['order_date'], errors='coerce')\n",
    "\n",
    "# After\n",
    "print(\"After conversion:\", raw['order_date'].dtypes)\n"
   ]
  },
  {
   "cell_type": "markdown",
   "id": "7230e746",
   "metadata": {},
   "source": [
    "Converted the order_date column to datetime format to support time-based analysis and sorting."
   ]
  },
  {
   "cell_type": "code",
   "execution_count": 6,
   "id": "c87b8a01",
   "metadata": {},
   "outputs": [
    {
     "data": {
      "text/html": [
       "<div>\n",
       "<style scoped>\n",
       "    .dataframe tbody tr th:only-of-type {\n",
       "        vertical-align: middle;\n",
       "    }\n",
       "\n",
       "    .dataframe tbody tr th {\n",
       "        vertical-align: top;\n",
       "    }\n",
       "\n",
       "    .dataframe thead th {\n",
       "        text-align: right;\n",
       "    }\n",
       "</style>\n",
       "<table border=\"1\" class=\"dataframe\">\n",
       "  <thead>\n",
       "    <tr style=\"text-align: right;\">\n",
       "      <th></th>\n",
       "      <th>quantity</th>\n",
       "      <th>unit_price</th>\n",
       "      <th>total_price</th>\n",
       "    </tr>\n",
       "  </thead>\n",
       "  <tbody>\n",
       "    <tr>\n",
       "      <th>0</th>\n",
       "      <td>2.0</td>\n",
       "      <td>500.0</td>\n",
       "      <td>1000.0</td>\n",
       "    </tr>\n",
       "    <tr>\n",
       "      <th>1</th>\n",
       "      <td>2.0</td>\n",
       "      <td>500.0</td>\n",
       "      <td>1000.0</td>\n",
       "    </tr>\n",
       "    <tr>\n",
       "      <th>2</th>\n",
       "      <td>2.0</td>\n",
       "      <td>250.0</td>\n",
       "      <td>500.0</td>\n",
       "    </tr>\n",
       "    <tr>\n",
       "      <th>3</th>\n",
       "      <td>2.0</td>\n",
       "      <td>750.0</td>\n",
       "      <td>1500.0</td>\n",
       "    </tr>\n",
       "    <tr>\n",
       "      <th>4</th>\n",
       "      <td>3.0</td>\n",
       "      <td>500.0</td>\n",
       "      <td>1500.0</td>\n",
       "    </tr>\n",
       "  </tbody>\n",
       "</table>\n",
       "</div>"
      ],
      "text/plain": [
       "   quantity  unit_price  total_price\n",
       "0       2.0       500.0       1000.0\n",
       "1       2.0       500.0       1000.0\n",
       "2       2.0       250.0        500.0\n",
       "3       2.0       750.0       1500.0\n",
       "4       3.0       500.0       1500.0"
      ]
     },
     "execution_count": 6,
     "metadata": {},
     "output_type": "execute_result"
    }
   ],
   "source": [
    "# Enrichment\n",
    "\n",
    "# Add total_price = quantity × unit_price\n",
    "raw['total_price'] = raw['quantity'] * raw['unit_price']\n",
    "\n",
    "#after\n",
    "raw[['quantity', 'unit_price', 'total_price']].head()\n"
   ]
  },
  {
   "cell_type": "markdown",
   "id": "e1bd89eb",
   "metadata": {},
   "source": [
    "Created a new total_price column by multiplying quantity and unit_price. This metric allows for future revenue aggregation and transactional value analysis."
   ]
  },
  {
   "cell_type": "code",
   "execution_count": 21,
   "id": "c00690d5",
   "metadata": {},
   "outputs": [
    {
     "data": {
      "text/html": [
       "<div>\n",
       "<style scoped>\n",
       "    .dataframe tbody tr th:only-of-type {\n",
       "        vertical-align: middle;\n",
       "    }\n",
       "\n",
       "    .dataframe tbody tr th {\n",
       "        vertical-align: top;\n",
       "    }\n",
       "\n",
       "    .dataframe thead th {\n",
       "        text-align: right;\n",
       "    }\n",
       "</style>\n",
       "<table border=\"1\" class=\"dataframe\">\n",
       "  <thead>\n",
       "    <tr style=\"text-align: right;\">\n",
       "      <th></th>\n",
       "      <th>total_price</th>\n",
       "      <th>order_value_category</th>\n",
       "    </tr>\n",
       "  </thead>\n",
       "  <tbody>\n",
       "    <tr>\n",
       "      <th>0</th>\n",
       "      <td>1000.0</td>\n",
       "      <td>High</td>\n",
       "    </tr>\n",
       "    <tr>\n",
       "      <th>1</th>\n",
       "      <td>1000.0</td>\n",
       "      <td>High</td>\n",
       "    </tr>\n",
       "    <tr>\n",
       "      <th>2</th>\n",
       "      <td>500.0</td>\n",
       "      <td>Low</td>\n",
       "    </tr>\n",
       "    <tr>\n",
       "      <th>3</th>\n",
       "      <td>1500.0</td>\n",
       "      <td>High</td>\n",
       "    </tr>\n",
       "    <tr>\n",
       "      <th>4</th>\n",
       "      <td>1500.0</td>\n",
       "      <td>High</td>\n",
       "    </tr>\n",
       "  </tbody>\n",
       "</table>\n",
       "</div>"
      ],
      "text/plain": [
       "   total_price order_value_category\n",
       "0       1000.0                 High\n",
       "1       1000.0                 High\n",
       "2        500.0                  Low\n",
       "3       1500.0                 High\n",
       "4       1500.0                 High"
      ]
     },
     "execution_count": 21,
     "metadata": {},
     "output_type": "execute_result"
    }
   ],
   "source": [
    "# Categorization\n",
    "\n",
    "# Define bins and labels\n",
    "bins = [0-500, 600, 1000, float('inf')]\n",
    "labels = ['Low', 'Medium', 'High']\n",
    "\n",
    "# Create a new column\n",
    "raw['order_value_category'] = pd.cut(raw['total_price'], bins=bins, labels=labels, right=False)\n",
    "\n",
    "# Preview the result\n",
    "raw[['total_price', 'order_value_category']].head()\n"
   ]
  },
  {
   "cell_type": "markdown",
   "id": "b1ab36e8",
   "metadata": {},
   "source": [
    "Created a order_value_category column by binning total_price into tiers: Low (<100), Medium (100–499), and High (500+). This enables easier analysis of customer spending levels."
   ]
  },
  {
   "cell_type": "code",
   "execution_count": 8,
   "id": "5bc42484",
   "metadata": {},
   "outputs": [],
   "source": [
    "# Save transformed raw_data as transformed_full.csv\n",
    "raw.to_csv('transformed/transformed_full.csv', index=False)\n"
   ]
  },
  {
   "cell_type": "markdown",
   "id": "f47bc4e3",
   "metadata": {},
   "source": [
    "Transforming incremental_data.csv"
   ]
  },
  {
   "cell_type": "code",
   "execution_count": 9,
   "id": "27a3c04d",
   "metadata": {},
   "outputs": [
    {
     "name": "stdout",
     "output_type": "stream",
     "text": [
      "Missing values: order_id         0\n",
      "customer_name    6\n",
      "product          0\n",
      "quantity         4\n",
      "unit_price       0\n",
      "order_date       0\n",
      "region           2\n",
      "dtype: int64\n"
     ]
    },
    {
     "data": {
      "text/plain": [
       "order_id         0\n",
       "customer_name    0\n",
       "product          0\n",
       "quantity         0\n",
       "unit_price       0\n",
       "order_date       0\n",
       "region           0\n",
       "dtype: int64"
      ]
     },
     "execution_count": 9,
     "metadata": {},
     "output_type": "execute_result"
    }
   ],
   "source": [
    "#Cleaning: handle missing values\n",
    "\n",
    "# Before \n",
    "print(\"Missing values:\", incremental.isnull().sum())\n",
    "\n",
    "# Work on the missing values\n",
    "# Categorical\n",
    "incremental['customer_name'] = incremental['customer_name'].fillna('Unknown')\n",
    "incremental['region'] = incremental['region'].fillna(incremental['region'].mode()[0])\n",
    "\n",
    "# Numeric (use median to reduce outlier distortion)\n",
    "incremental['quantity'] = incremental['quantity'].fillna(incremental['quantity'].median())\n",
    "\n",
    "#after\n",
    "incremental.isnull().sum()\n",
    "\n"
   ]
  },
  {
   "cell_type": "markdown",
   "id": "6b357d05",
   "metadata": {},
   "source": [
    "Handled missing values across both categorical and numeric fields using context-appropriate strategies. Categorical entries were filled with the mode or a placeholder label. Numeric columns used the median to minimize distortion from skew or outliers."
   ]
  },
  {
   "cell_type": "code",
   "execution_count": 10,
   "id": "52625428",
   "metadata": {},
   "outputs": [
    {
     "name": "stdout",
     "output_type": "stream",
     "text": [
      "order_date dtype before: object\n",
      "After conversion: datetime64[ns]\n"
     ]
    }
   ],
   "source": [
    "# Structural fixes\n",
    "\n",
    "# Before\n",
    "print(\"order_date dtype before:\", incremental['order_date'].dtype)\n",
    "\n",
    "# Convert 'order_date' to datetime\n",
    "incremental['order_date'] = pd.to_datetime(incremental['order_date'], errors='coerce')\n",
    "\n",
    "# After\n",
    "print(\"After conversion:\", incremental['order_date'].dtypes)\n",
    "\n"
   ]
  },
  {
   "cell_type": "markdown",
   "id": "daffdb92",
   "metadata": {},
   "source": [
    "Converted the order_date column to datetime format to support time-based analysis and sorting."
   ]
  },
  {
   "cell_type": "code",
   "execution_count": 11,
   "id": "37d8eba5",
   "metadata": {},
   "outputs": [
    {
     "name": "stdout",
     "output_type": "stream",
     "text": [
      "   quantity  unit_price  total_price\n",
      "0       1.5       900.0       1350.0\n",
      "1       1.0       300.0        300.0\n",
      "2       1.0       600.0        600.0\n",
      "3       1.5       300.0        450.0\n",
      "4       2.0       600.0       1200.0\n"
     ]
    }
   ],
   "source": [
    "# Enrichment\n",
    "\n",
    "# Add total_price = quantity × unit_price\n",
    "incremental['total_price'] = incremental['quantity'] * incremental['unit_price']\n",
    "\n",
    "#after\n",
    "print(incremental[['quantity','unit_price','total_price']].head())\n"
   ]
  },
  {
   "cell_type": "markdown",
   "id": "2b5f2ce6",
   "metadata": {},
   "source": [
    "Created a new total_price column by multiplying quantity and unit_price. This metric allows for future revenue aggregation and transactional value analysis."
   ]
  },
  {
   "cell_type": "code",
   "execution_count": 20,
   "id": "25f12dc5",
   "metadata": {},
   "outputs": [
    {
     "data": {
      "text/html": [
       "<div>\n",
       "<style scoped>\n",
       "    .dataframe tbody tr th:only-of-type {\n",
       "        vertical-align: middle;\n",
       "    }\n",
       "\n",
       "    .dataframe tbody tr th {\n",
       "        vertical-align: top;\n",
       "    }\n",
       "\n",
       "    .dataframe thead th {\n",
       "        text-align: right;\n",
       "    }\n",
       "</style>\n",
       "<table border=\"1\" class=\"dataframe\">\n",
       "  <thead>\n",
       "    <tr style=\"text-align: right;\">\n",
       "      <th></th>\n",
       "      <th>total_price</th>\n",
       "      <th>order_value_category</th>\n",
       "    </tr>\n",
       "  </thead>\n",
       "  <tbody>\n",
       "    <tr>\n",
       "      <th>5</th>\n",
       "      <td>1200.0</td>\n",
       "      <td>High</td>\n",
       "    </tr>\n",
       "    <tr>\n",
       "      <th>6</th>\n",
       "      <td>600.0</td>\n",
       "      <td>Medium</td>\n",
       "    </tr>\n",
       "    <tr>\n",
       "      <th>7</th>\n",
       "      <td>900.0</td>\n",
       "      <td>Medium</td>\n",
       "    </tr>\n",
       "    <tr>\n",
       "      <th>8</th>\n",
       "      <td>1200.0</td>\n",
       "      <td>High</td>\n",
       "    </tr>\n",
       "    <tr>\n",
       "      <th>9</th>\n",
       "      <td>1350.0</td>\n",
       "      <td>High</td>\n",
       "    </tr>\n",
       "  </tbody>\n",
       "</table>\n",
       "</div>"
      ],
      "text/plain": [
       "   total_price order_value_category\n",
       "5       1200.0                 High\n",
       "6        600.0               Medium\n",
       "7        900.0               Medium\n",
       "8       1200.0                 High\n",
       "9       1350.0                 High"
      ]
     },
     "execution_count": 20,
     "metadata": {},
     "output_type": "execute_result"
    }
   ],
   "source": [
    "# Define bins and labels\n",
    "bins = [0-500, 600, 1000, float('inf')]\n",
    "labels = ['Low', 'Medium', 'High']\n",
    "\n",
    "# Create a new column\n",
    "incremental['order_value_category'] = pd.cut(incremental['total_price'], bins=bins, labels=labels, right=False)\n",
    "\n",
    "# Preview the result\n",
    "incremental[['total_price', 'order_value_category']].tail()\n"
   ]
  },
  {
   "cell_type": "markdown",
   "id": "f1e8ed4b",
   "metadata": {},
   "source": [
    "Created a order_value_category column by binning total_price into tiers: Low (<100), Medium (100–499), and High (500+). This enables easier analysis of customer spending levels."
   ]
  },
  {
   "cell_type": "code",
   "execution_count": 13,
   "id": "af48185f",
   "metadata": {},
   "outputs": [],
   "source": [
    "# Save transformed incremental_data as transformed_incremental.csv\n",
    "incremental.to_csv('transformed/transformed_incremental.csv', index=False)\n"
   ]
  }
 ],
 "metadata": {
  "kernelspec": {
   "display_name": "Python 3",
   "language": "python",
   "name": "python3"
  },
  "language_info": {
   "codemirror_mode": {
    "name": "ipython",
    "version": 3
   },
   "file_extension": ".py",
   "mimetype": "text/x-python",
   "name": "python",
   "nbconvert_exporter": "python",
   "pygments_lexer": "ipython3",
   "version": "3.11.9"
  }
 },
 "nbformat": 4,
 "nbformat_minor": 5
}
